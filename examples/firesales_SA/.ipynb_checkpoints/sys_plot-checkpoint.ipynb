{
 "cells": [
  {
   "cell_type": "markdown",
   "metadata": {},
   "source": [
    "This is for the distribution moments. It will write a csv \n"
   ]
  },
  {
   "cell_type": "code",
   "execution_count": 92,
   "metadata": {},
   "outputs": [
    {
     "name": "stdout",
     "output_type": "stream",
     "text": [
      "[array([  1.62450000e+11,   2.43947695e+11,   3.15150000e+11]), array([  1.18400000e+11,   2.33234735e+11,   3.14150000e+11]), array([  1.08448674e+11,   2.31521482e+11,   3.14150000e+11]), array([  1.06465405e+11,   2.31102857e+11,   3.14150000e+11]), array([  1.06450340e+11,   2.30998812e+11,   3.14150000e+11]), array([  1.06450340e+11,   2.30998812e+11,   3.14150000e+11]), array([  1.05497623e+11,   2.30958177e+11,   3.14150000e+11]), array([  1.05497133e+11,   2.30948071e+11,   3.14150000e+11])]\n"
     ]
    }
   ],
   "source": [
    "import numpy as np\n",
    "import pandas as pd\n",
    "import matplotlib as mpl\n",
    "mpl.rcParams.update({'font.size': 15, 'font.family':'serif'})\n",
    "from matplotlib.patches import Rectangle\n",
    "import matplotlib.pyplot as plt\n",
    "\n",
    "df = pd.read_csv('test100.csv')\n",
    "\n",
    "keys = np.unique(df['current_step'])\n",
    "\n",
    "for key in keys:\n",
    "    if key == 0:\n",
    "        I0 = np.argwhere(df['current_step']==key).squeeze() \n",
    "    if key == 1:\n",
    "        I1 = np.argwhere(df['current_step']==key).squeeze()\n",
    "    if key == 2:\n",
    "        I2 = np.argwhere(df['current_step']==key).squeeze()     \n",
    "    if key == 3:\n",
    "        I3 = np.argwhere(df['current_step']==key).squeeze()     \n",
    "    if key == 4:\n",
    "        I4 = np.argwhere(df['current_step']==key).squeeze()    \n",
    "    if key == 5: \n",
    "        I5 = np.argwhere(df['current_step']==key).squeeze()     \n",
    "    if key == 6: \n",
    "        I6 = np.argwhere(df['current_step']==key).squeeze()\n",
    "    if key == 7:\n",
    "        I7 = np.argwhere(df['current_step']==key).squeeze()\n",
    "\n",
    "period1 = df['system_equity'][I1]\n",
    "period2 = df['system_equity'][I2]\n",
    "period3 = df['system_equity'][I3]\n",
    "period4 = df['system_equity'][I4]\n",
    "period5 = df['system_equity'][I5]\n",
    "period6 =  df['system_equity'][I5]\n",
    "period7 = df['system_equity'][I6]\n",
    "period8 = df['system_equity'][I7]\n",
    "\n",
    "list = [period1, period2, period3, period4, period5, period6, period7, period8]\n",
    "\n",
    "\n",
    "def calc_percentile(array):\n",
    "    p5 = np.percentile(array, 5) \n",
    "    p95 = np.percentile(array, 95)\n",
    "    pm = np.mean(array)   \n",
    "    return p5, pm, p95\n",
    "\n",
    "output = []\n",
    "for i in list:\n",
    "    vfunc = np.array(np.array(calc_percentile(i)))\n",
    "    output.append(vfunc)\n",
    "\n",
    "print output\n",
    "\n",
    "df = pd.DataFrame(output)\n",
    "df.to_csv(\"1000_moments.csv\", index=False, header=False)\n",
    "\n",
    "# fig = plt.figure()\n",
    "# ax1 = fig.add_subplot(121)\n",
    "\n",
    "# for key in keys:    \n",
    "#     I = np.argwhere(df['current_step']==key).squeeze()\n",
    "\n",
    "#     ax1.plot(df['current_step'][I], df['system_equity'][I], label=\"system_Equity\")\n",
    "\n",
    "# plt.show()\n",
    "\n",
    "\n",
    "# ax1 = fig.add_subplot(121)\n",
    "# ax1.plot(df['current_step'][I], df['system_Equity'][I], label=\"system_Equity\")\n",
    "# ax1.set_xlabel('$p$')\n",
    "# ax1.set_ylabel('$x$')\n",
    "\n",
    "# nrows=2, ncols=2,\n",
    "# ax[0,0] top left\n",
    "# ax[0,1] top right\n",
    "# ax[row, col]  \n",
    "\n",
    "    #fig = plt.figure()\n",
    "#     ax[0].plot(df['current_step'][I], df['system_TAS'][I], label=\"system_TAS %s\"%key)\n",
    "    \n",
    "#  ax1 = fig.add_subplot(121)\n",
    "# ax1.plot(p, data_sorted)\n",
    "# ax1.set_xlabel('$p$')\n",
    "# ax1.set_ylabel('$x$')\n",
    "\n",
    "# ax2 = fig.add_subplot(122)\n",
    "# ax2.plot(data_sorted, p)\n",
    "# ax2.set_xlabel('$x$')\n",
    "# ax2.set_ylabel('$p$')\n",
    "\n",
    "# plt.show()   "
   ]
  },
  {
   "cell_type": "markdown",
   "metadata": {},
   "source": [
    "This is for the actual values per shock simulated:\n",
    "\n",
    "    "
   ]
  },
  {
   "cell_type": "code",
   "execution_count": 128,
   "metadata": {},
   "outputs": [],
   "source": [
    "df = pd.read_csv('test1000.csv')\n",
    "\n",
    "new_df = df[[\"system_equity\", \"shock\"]].copy()\n",
    "numpyMatrix = new_df.as_matrix()\n",
    "\n",
    "df1 = df.pivot(index='current_step', columns='shock', values='system_equity')\n",
    "# output = []\n",
    "# for key in keys2:\n",
    "#     I = np.argwhere(df['shock']==key).squeeze() \n",
    "#     output.append(df['system_equity'][I])  \n",
    "#     print df['system_equity'][I]\n",
    "\n",
    "#  shock_array = np.array(df['system_equity'][I])\n",
    "# df = pd.DataFrame(output)\n",
    "df1.to_csv(\"1000_hihishocks.csv\")"
   ]
  },
  {
   "cell_type": "code",
   "execution_count": null,
   "metadata": {},
   "outputs": [],
   "source": [
    "df3 = pd.read_csv('1000_plot.csv')\n",
    "\n",
    "df4 = df3.loc[ : , '5%': ]\n",
    "\n",
    "col_names=[]\n",
    "for i in df4.columns:\n",
    "    col_names.append(str(i))\n",
    "    \n",
    "# rows = [df4.loc[  : , :label  ] for label in col_names]\n",
    "print \"hello\"\n",
    "# print rows\n",
    "\n",
    "# df.plot(x=\"current_step\", y = (df3.loc[ : , '5%': ]))\n",
    "\n",
    "\n"
   ]
  },
  {
   "cell_type": "code",
   "execution_count": null,
   "metadata": {
    "collapsed": true
   },
   "outputs": [],
   "source": []
  }
 ],
 "metadata": {
  "kernelspec": {
   "display_name": "Python 2",
   "language": "python",
   "name": "python2"
  },
  "language_info": {
   "codemirror_mode": {
    "name": "ipython",
    "version": 2
   },
   "file_extension": ".py",
   "mimetype": "text/x-python",
   "name": "python",
   "nbconvert_exporter": "python",
   "pygments_lexer": "ipython2",
   "version": "2.7.11"
  }
 },
 "nbformat": 4,
 "nbformat_minor": 2
}
